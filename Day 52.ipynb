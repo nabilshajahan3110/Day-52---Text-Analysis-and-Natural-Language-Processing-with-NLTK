{
 "cells": [
  {
   "cell_type": "markdown",
   "id": "9f58eb7e-be8f-4a8c-afc6-38de7856bb73",
   "metadata": {},
   "source": [
    "# **Text analysis and natural language processing with NLTK**"
   ]
  },
  {
   "cell_type": "code",
   "execution_count": 2,
   "id": "d20ce3de-d897-40ec-ac60-cd727ec81494",
   "metadata": {},
   "outputs": [],
   "source": [
    "import warnings\n",
    "import sys\n",
    "if not sys.warnoptions:\n",
    "    warnings.simplefilter(\"ignore\")"
   ]
  },
  {
   "cell_type": "code",
   "execution_count": 4,
   "id": "6f7bcd46-17ea-41b7-b272-7fe6ec88b056",
   "metadata": {},
   "outputs": [
    {
     "name": "stdout",
     "output_type": "stream",
     "text": [
      "Requirement already satisfied: nltk in c:\\users\\nms31\\anaconda3\\lib\\site-packages (3.8.1)\n",
      "Requirement already satisfied: click in c:\\users\\nms31\\anaconda3\\lib\\site-packages (from nltk) (8.1.7)\n",
      "Requirement already satisfied: joblib in c:\\users\\nms31\\anaconda3\\lib\\site-packages (from nltk) (1.4.2)\n",
      "Requirement already satisfied: regex>=2021.8.3 in c:\\users\\nms31\\anaconda3\\lib\\site-packages (from nltk) (2023.10.3)\n",
      "Requirement already satisfied: tqdm in c:\\users\\nms31\\anaconda3\\lib\\site-packages (from nltk) (4.66.4)\n",
      "Requirement already satisfied: colorama in c:\\users\\nms31\\anaconda3\\lib\\site-packages (from click->nltk) (0.4.6)\n",
      "Note: you may need to restart the kernel to use updated packages.\n"
     ]
    }
   ],
   "source": [
    "# pip install nltk"
   ]
  },
  {
   "cell_type": "code",
   "execution_count": 37,
   "id": "f5f3902b-8719-41b9-a8bc-8c8dca28b980",
   "metadata": {},
   "outputs": [
    {
     "name": "stderr",
     "output_type": "stream",
     "text": [
      "[nltk_data] Downloading package punkt to\n",
      "[nltk_data]     C:\\Users\\nms31\\AppData\\Roaming\\nltk_data...\n",
      "[nltk_data]   Package punkt is already up-to-date!\n",
      "[nltk_data] Downloading package stopwords to\n",
      "[nltk_data]     C:\\Users\\nms31\\AppData\\Roaming\\nltk_data...\n",
      "[nltk_data]   Package stopwords is already up-to-date!\n",
      "[nltk_data] Downloading package wordnet to\n",
      "[nltk_data]     C:\\Users\\nms31\\AppData\\Roaming\\nltk_data...\n",
      "[nltk_data]   Package wordnet is already up-to-date!\n",
      "[nltk_data] Downloading package averaged_perceptron_tagger to\n",
      "[nltk_data]     C:\\Users\\nms31\\AppData\\Roaming\\nltk_data...\n",
      "[nltk_data]   Package averaged_perceptron_tagger is already up-to-\n",
      "[nltk_data]       date!\n",
      "[nltk_data] Downloading package maxent_ne_chunker to\n",
      "[nltk_data]     C:\\Users\\nms31\\AppData\\Roaming\\nltk_data...\n",
      "[nltk_data]   Package maxent_ne_chunker is already up-to-date!\n",
      "[nltk_data] Downloading package words to\n",
      "[nltk_data]     C:\\Users\\nms31\\AppData\\Roaming\\nltk_data...\n",
      "[nltk_data]   Package words is already up-to-date!\n"
     ]
    },
    {
     "data": {
      "text/plain": [
       "True"
      ]
     },
     "execution_count": 37,
     "metadata": {},
     "output_type": "execute_result"
    }
   ],
   "source": [
    "import nltk\n",
    "nltk.download('punkt')  # For tokenization\n",
    "nltk.download('stopwords')  # For stopword removal\n",
    "nltk.download('wordnet')  # For lemmatization\n",
    "nltk.download('averaged_perceptron_tagger')  # For POS tagging\n",
    "nltk.download('maxent_ne_chunker')  # For NER\n",
    "nltk.download('words')  # For NER"
   ]
  },
  {
   "cell_type": "markdown",
   "id": "a65de65e-4a04-450d-8eed-a35ff5cb535d",
   "metadata": {},
   "source": [
    "### **Step 2: Tokenization**\n",
    "#### Instructions:\n",
    "1. Use the `word_tokenize` function to split a sample text into words.\n",
    "2. Use `sent_tokenize` to split a sample text into sentences."
   ]
  },
  {
   "cell_type": "code",
   "execution_count": 39,
   "id": "9d34c944-dcc2-4f52-bfca-6fa1d4773eff",
   "metadata": {},
   "outputs": [
    {
     "name": "stdout",
     "output_type": "stream",
     "text": [
      "Word Tokens: ['Natural', 'Language', 'Processing', '(', 'NLP', ')', 'is', 'a', 'fascinating', 'field', 'of', 'Artificial', 'Intelligence', '.', 'It', 'enables', 'machines', 'to', 'understand', 'human', 'language', '.']\n",
      "Sentence Tokens: ['Natural Language Processing (NLP) is a fascinating field of Artificial Intelligence.', 'It enables machines to understand human language.']\n"
     ]
    }
   ],
   "source": [
    "from nltk.tokenize import word_tokenize, sent_tokenize\n",
    "\n",
    "# Sample text\n",
    "text = \"Natural Language Processing (NLP) is a fascinating field of Artificial Intelligence. It enables machines to understand human language.\"\n",
    "\n",
    "# Word Tokenization\n",
    "words = word_tokenize(text)\n",
    "print(\"Word Tokens:\", words)\n",
    "\n",
    "# Sentence Tokenization\n",
    "sentences = sent_tokenize(text)\n",
    "print(\"Sentence Tokens:\", sentences)"
   ]
  },
  {
   "cell_type": "markdown",
   "id": "241519bb-2595-4c18-9deb-d39382ab35d7",
   "metadata": {},
   "source": [
    "### **Step 3: Stopword Removal**\n",
    "#### Instructions:\n",
    "1. Filter out common words (stopwords) using the NLTK `stopwords` corpus."
   ]
  },
  {
   "cell_type": "code",
   "execution_count": 41,
   "id": "b84512e1-2d2f-4b9a-8bf1-4c3cdf2c3294",
   "metadata": {},
   "outputs": [
    {
     "name": "stdout",
     "output_type": "stream",
     "text": [
      "Filtered Words: ['Natural', 'Language', 'Processing', '(', 'NLP', ')', 'fascinating', 'field', 'Artificial', 'Intelligence', '.', 'enables', 'machines', 'understand', 'human', 'language', '.']\n"
     ]
    }
   ],
   "source": [
    "from nltk.corpus import stopwords\n",
    "\n",
    "# Define stop words\n",
    "stop_words = set(stopwords.words('english'))\n",
    "\n",
    "# Remove stopwords\n",
    "filtered_words = [word for word in words if word.lower() not in stop_words]\n",
    "print(\"Filtered Words:\", filtered_words)"
   ]
  },
  {
   "cell_type": "markdown",
   "id": "a1ed34ff-60c6-4491-b8d7-19bbf87e2104",
   "metadata": {},
   "source": [
    "### **Step 4: Stemming**\n",
    "#### Instructions:\n",
    "1. Reduce each word to its root form using the Porter Stemmer."
   ]
  },
  {
   "cell_type": "code",
   "execution_count": 43,
   "id": "bddc24e0-acb6-4107-a4c1-4c9e1135be12",
   "metadata": {},
   "outputs": [
    {
     "name": "stdout",
     "output_type": "stream",
     "text": [
      "Stemmed Words: ['natur', 'languag', 'process', '(', 'nlp', ')', 'fascin', 'field', 'artifici', 'intellig', '.', 'enabl', 'machin', 'understand', 'human', 'languag', '.']\n"
     ]
    }
   ],
   "source": [
    "from nltk.stem import PorterStemmer\n",
    "\n",
    "# Initialize the stemmer\n",
    "stemmer = PorterStemmer()\n",
    "\n",
    "# Apply stemming\n",
    "stems = [stemmer.stem(word) for word in filtered_words]\n",
    "print(\"Stemmed Words:\", stems)"
   ]
  },
  {
   "cell_type": "markdown",
   "id": "0a7ec480-b41d-4d3f-aa48-668dbc02eb61",
   "metadata": {},
   "source": [
    "### **Step 5: Lemmatization**\n",
    "#### Instructions:\n",
    "1. Reduce words to their base or dictionary form using the WordNet Lemmatizer."
   ]
  },
  {
   "cell_type": "code",
   "execution_count": 45,
   "id": "ddb3ec0f-84f2-4ba2-9873-1d919f085b74",
   "metadata": {},
   "outputs": [
    {
     "name": "stdout",
     "output_type": "stream",
     "text": [
      "Lemmatized Words: ['Natural', 'Language', 'Processing', '(', 'NLP', ')', 'fascinating', 'field', 'Artificial', 'Intelligence', '.', 'enables', 'machine', 'understand', 'human', 'language', '.']\n"
     ]
    }
   ],
   "source": [
    "from nltk.stem import WordNetLemmatizer\n",
    "\n",
    "# Initialize the lemmatizer\n",
    "lemmatizer = WordNetLemmatizer()\n",
    "\n",
    "# Apply lemmatization\n",
    "lemmas = [lemmatizer.lemmatize(word) for word in filtered_words]\n",
    "print(\"Lemmatized Words:\", lemmas)"
   ]
  },
  {
   "cell_type": "markdown",
   "id": "ec650061-c8c2-4ac5-8755-bbc9a35c4b33",
   "metadata": {},
   "source": [
    "### **Step 6: POS Tagging**\n",
    "#### Instructions:\n",
    "1. Identify the grammatical role (e.g., noun, verb) of each word using the `pos_tag` function."
   ]
  },
  {
   "cell_type": "code",
   "execution_count": 47,
   "id": "e8d6adf7-79aa-44d1-afbb-ed5083be2b08",
   "metadata": {},
   "outputs": [
    {
     "name": "stdout",
     "output_type": "stream",
     "text": [
      "POS Tags: [('Natural', 'JJ'), ('Language', 'NNP'), ('Processing', 'NNP'), ('(', '('), ('NLP', 'NNP'), (')', ')'), ('fascinating', 'VBG'), ('field', 'NN'), ('Artificial', 'NNP'), ('Intelligence', 'NNP'), ('.', '.'), ('enables', 'NNS'), ('machines', 'NNS'), ('understand', 'VBP'), ('human', 'JJ'), ('language', 'NN'), ('.', '.')]\n"
     ]
    }
   ],
   "source": [
    "from nltk import pos_tag\n",
    "\n",
    "# Apply POS tagging\n",
    "pos_tags = pos_tag(filtered_words)\n",
    "print(\"POS Tags:\", pos_tags)"
   ]
  },
  {
   "cell_type": "markdown",
   "id": "b2626546-1f32-416e-aebf-8e169a05047e",
   "metadata": {},
   "source": [
    "### **Step 7: Named Entity Recognition (NER)**\n",
    "#### Instructions:\n",
    "1. Extract named entities (e.g., names, organizations) from the text using `ne_chunk`."
   ]
  },
  {
   "cell_type": "code",
   "execution_count": 49,
   "id": "9b164164-df14-4826-974a-6cfb3dd4eb74",
   "metadata": {},
   "outputs": [
    {
     "name": "stdout",
     "output_type": "stream",
     "text": [
      "Named Entities:\n",
      "(S\n",
      "  Natural/JJ\n",
      "  Language/NNP\n",
      "  Processing/NNP\n",
      "  (/(\n",
      "  (ORGANIZATION NLP/NNP)\n",
      "  )/)\n",
      "  is/VBZ\n",
      "  a/DT\n",
      "  fascinating/JJ\n",
      "  field/NN\n",
      "  of/IN\n",
      "  (ORGANIZATION Artificial/JJ Intelligence/NNP)\n",
      "  ./.\n",
      "  It/PRP\n",
      "  enables/VBZ\n",
      "  machines/NNS\n",
      "  to/TO\n",
      "  understand/VB\n",
      "  human/JJ\n",
      "  language/NN\n",
      "  ./.)\n"
     ]
    }
   ],
   "source": [
    "from nltk import ne_chunk\n",
    "\n",
    "# Apply NER\n",
    "ner = ne_chunk(pos_tag(word_tokenize(text)))\n",
    "print(\"Named Entities:\")\n",
    "print(ner)"
   ]
  },
  {
   "cell_type": "markdown",
   "id": "a4019c1c-4381-4809-9e36-de5592b53e3f",
   "metadata": {},
   "source": [
    "### **Step 8: Practice Sentiment Analysis**\n",
    "#### Instructions:\n",
    "1. Use the above techniques to analyze sentiment in a given text.\n",
    "2. Identify positive, negative, or neutral sentiment using tokenization and stopword removal as preprocessing steps."
   ]
  },
  {
   "cell_type": "code",
   "execution_count": 51,
   "id": "976a804b-3fb9-41df-ac87-18c7ebefb4c2",
   "metadata": {},
   "outputs": [
    {
     "name": "stdout",
     "output_type": "stream",
     "text": [
      "The sentiment is Positive.\n"
     ]
    }
   ],
   "source": [
    "# Define a simple example for sentiment analysis\n",
    "positive_words = [\"fascinating\", \"enable\", \"understand\"]\n",
    "negative_words = [\"problem\", \"complex\"]\n",
    "\n",
    "# Count positive and negative words\n",
    "positive_count = sum([1 for word in filtered_words if word.lower() in positive_words])\n",
    "negative_count = sum([1 for word in filtered_words if word.lower() in negative_words])\n",
    "\n",
    "# Determine sentiment\n",
    "if positive_count > negative_count:\n",
    "    print(\"The sentiment is Positive.\")\n",
    "elif negative_count > positive_count:\n",
    "    print(\"The sentiment is Negative.\")\n",
    "else:\n",
    "    print(\"The sentiment is Neutral.\")"
   ]
  }
 ],
 "metadata": {
  "kernelspec": {
   "display_name": "Python 3 (ipykernel)",
   "language": "python",
   "name": "python3"
  },
  "language_info": {
   "codemirror_mode": {
    "name": "ipython",
    "version": 3
   },
   "file_extension": ".py",
   "mimetype": "text/x-python",
   "name": "python",
   "nbconvert_exporter": "python",
   "pygments_lexer": "ipython3",
   "version": "3.12.4"
  }
 },
 "nbformat": 4,
 "nbformat_minor": 5
}
